{
  "nbformat": 4,
  "nbformat_minor": 0,
  "metadata": {
    "colab": {
      "provenance": []
    },
    "kernelspec": {
      "name": "python3",
      "display_name": "Python 3"
    },
    "language_info": {
      "name": "python"
    }
  },
  "cells": [
    {
      "cell_type": "markdown",
      "source": [
        "# Assignment 2\n",
        "**Estimation And Confidence Intervals**"
      ],
      "metadata": {
        "id": "AFvXL9qVW6ro"
      }
    },
    {
      "cell_type": "markdown",
      "source": [
        "*A total of 15 print-heads were randomly selected and tested until failure. The durability of each print-head (in millions of characters) was recorded as follows:\n",
        "1.13, 1.55, 1.43, 0.92, 1.25, 1.36, 1.32, 0.85, 1.07, 1.48, 1.20, 1.33, 1.18, 1.22, 1.29*\n"
      ],
      "metadata": {
        "id": "n-igHKx4bCoz"
      }
    },
    {
      "cell_type": "markdown",
      "source": [
        "**Build 99% Confidence Interval Using Sample Standard Deviation:**"
      ],
      "metadata": {
        "id": "blhNN5A4XBje"
      }
    },
    {
      "cell_type": "markdown",
      "source": [
        "*Assuming the sample is representative of the population, construct a 99% confidence interval for the mean number of characters printed before the print-head fails using the sample standard deviation. Explain the steps you take and the rationale behind using the t-distribution for this task.*"
      ],
      "metadata": {
        "id": "P6uLHIDhbOqt"
      }
    },
    {
      "cell_type": "code",
      "source": [
        "from scipy import stats\n",
        "import pandas as pd\n",
        "import numpy as np"
      ],
      "metadata": {
        "id": "0uWGpKZ4XKL7"
      },
      "execution_count": 1,
      "outputs": []
    },
    {
      "cell_type": "code",
      "source": [
        "data=np.array([1.13, 1.55, 1.43, 0.92, 1.25, 1.36, 1.32, 0.85, 1.07, 1.48, 1.20, 1.33, 1.18, 1.22, 1.29])\n"
      ],
      "metadata": {
        "id": "48Y2av2DXOkz"
      },
      "execution_count": 2,
      "outputs": []
    },
    {
      "cell_type": "code",
      "source": [
        "data"
      ],
      "metadata": {
        "colab": {
          "base_uri": "https://localhost:8080/"
        },
        "id": "VpBCeeGpXXbP",
        "outputId": "e1a2f024-d263-4e6f-c464-5ccc3a9fe4f2"
      },
      "execution_count": 3,
      "outputs": [
        {
          "output_type": "execute_result",
          "data": {
            "text/plain": [
              "array([1.13, 1.55, 1.43, 0.92, 1.25, 1.36, 1.32, 0.85, 1.07, 1.48, 1.2 ,\n",
              "       1.33, 1.18, 1.22, 1.29])"
            ]
          },
          "metadata": {},
          "execution_count": 3
        }
      ]
    },
    {
      "cell_type": "code",
      "source": [
        "l=len(data)"
      ],
      "metadata": {
        "id": "MzOgEIqeXaVY"
      },
      "execution_count": 4,
      "outputs": []
    },
    {
      "cell_type": "code",
      "source": [
        "l"
      ],
      "metadata": {
        "colab": {
          "base_uri": "https://localhost:8080/"
        },
        "id": "JtLuzvOdXcxs",
        "outputId": "20f1f699-5b31-472d-80d2-e5514dfcf31e"
      },
      "execution_count": 5,
      "outputs": [
        {
          "output_type": "execute_result",
          "data": {
            "text/plain": [
              "15"
            ]
          },
          "metadata": {},
          "execution_count": 5
        }
      ]
    },
    {
      "cell_type": "code",
      "source": [
        "t_distribution =stats.t.interval(0.99,14, loc = data.mean(),scale = data.std())"
      ],
      "metadata": {
        "id": "jQq7tkxxXtzv"
      },
      "execution_count": 8,
      "outputs": []
    },
    {
      "cell_type": "code",
      "source": [
        "print(t_distribution)"
      ],
      "metadata": {
        "colab": {
          "base_uri": "https://localhost:8080/"
        },
        "id": "2E4lFVYmYLAm",
        "outputId": "1809048e-b1e1-4349-8d8f-6151da6ee3a5"
      },
      "execution_count": 9,
      "outputs": [
        {
          "output_type": "stream",
          "name": "stdout",
          "text": [
            "(0.6831453079923472, 1.7941880253409859)\n"
          ]
        }
      ]
    },
    {
      "cell_type": "code",
      "source": [
        "print( 'Mean at 99% confidence interval is:', np.round(t_distribution, 4))"
      ],
      "metadata": {
        "colab": {
          "base_uri": "https://localhost:8080/"
        },
        "id": "FLAj9SLlYNrU",
        "outputId": "f6b794bb-9517-4551-9c15-de33f3958fea"
      },
      "execution_count": 10,
      "outputs": [
        {
          "output_type": "stream",
          "name": "stdout",
          "text": [
            "Mean at 99% confidence interval is: [0.6831 1.7942]\n"
          ]
        }
      ]
    },
    {
      "cell_type": "code",
      "source": [
        "stats.t.ppf(0.99,14)"
      ],
      "metadata": {
        "colab": {
          "base_uri": "https://localhost:8080/"
        },
        "id": "wP4KY6N3Y64q",
        "outputId": "8667540a-9f65-469b-b805-26306d6b1473"
      },
      "execution_count": 11,
      "outputs": [
        {
          "output_type": "execute_result",
          "data": {
            "text/plain": [
              "2.624494067560231"
            ]
          },
          "metadata": {},
          "execution_count": 11
        }
      ]
    },
    {
      "cell_type": "markdown",
      "source": [
        "As  we dont have sigma for that we use stats.t.interval function that for t_distribution"
      ],
      "metadata": {
        "id": "vxgJpUBFZkxW"
      }
    },
    {
      "cell_type": "markdown",
      "source": [
        "**Build 99% Confidence Interval Using Known Population Standard Deviation**\n",
        "\n",
        "\n"
      ],
      "metadata": {
        "id": "gBiW233paL-0"
      }
    },
    {
      "cell_type": "markdown",
      "source": [
        "*If it were known that the population standard deviation is 0.2 million characters, construct a 99% confidence interval for the mean number of characters printed before failure*"
      ],
      "metadata": {
        "id": "agH8IiAealft"
      }
    },
    {
      "cell_type": "code",
      "source": [
        "z_dis = stats.norm.interval(0.99,loc = data.mean(),scale = 0.2)\n"
      ],
      "metadata": {
        "id": "b8Rmz-EPbdS1"
      },
      "execution_count": 13,
      "outputs": []
    },
    {
      "cell_type": "code",
      "source": [
        "print(z_dis)"
      ],
      "metadata": {
        "colab": {
          "base_uri": "https://localhost:8080/"
        },
        "id": "lG_p1ozFbuH2",
        "outputId": "51fd2758-8ed4-4537-8d93-ae7073748e23"
      },
      "execution_count": 15,
      "outputs": [
        {
          "output_type": "stream",
          "name": "stdout",
          "text": [
            "(0.7235008059568865, 1.7538325273764466)\n"
          ]
        }
      ]
    },
    {
      "cell_type": "code",
      "source": [
        "print( 'Mean at 99% confidence interval is:', np.round(z_dis, 4))"
      ],
      "metadata": {
        "colab": {
          "base_uri": "https://localhost:8080/"
        },
        "id": "XJ4jBIWHbmY8",
        "outputId": "6420cfd7-e358-4cc3-d619-dcbd72c98f08"
      },
      "execution_count": 17,
      "outputs": [
        {
          "output_type": "stream",
          "name": "stdout",
          "text": [
            "Mean at 99% confidence interval is: [0.7235 1.7538]\n"
          ]
        }
      ]
    }
  ]
}
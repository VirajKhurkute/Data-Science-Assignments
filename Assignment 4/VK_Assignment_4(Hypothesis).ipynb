{
  "cells": [
    {
      "cell_type": "markdown",
      "id": "06bf0d84-dba8-4e6e-bf2c-7124fc7b1fc9",
      "metadata": {
        "id": "06bf0d84-dba8-4e6e-bf2c-7124fc7b1fc9"
      },
      "source": [
        "# Assignment 4"
      ]
    },
    {
      "cell_type": "markdown",
      "source": [
        "\n",
        "\n",
        "## HYPOTHESIS TESTING\n",
        "\n"
      ],
      "metadata": {
        "id": "ispg0BrH01iq"
      },
      "id": "ispg0BrH01iq"
    },
    {
      "cell_type": "code",
      "execution_count": 6,
      "id": "f550631e-bcd9-4c93-9e2d-720739a706d1",
      "metadata": {
        "id": "f550631e-bcd9-4c93-9e2d-720739a706d1"
      },
      "outputs": [],
      "source": [
        "import pandas as pd\n",
        "import numpy as np\n",
        "from scipy import stats"
      ]
    },
    {
      "cell_type": "markdown",
      "id": "7be7cb05-d09f-4e6d-9514-9f0679a7821b",
      "metadata": {
        "id": "7be7cb05-d09f-4e6d-9514-9f0679a7821b"
      },
      "source": [
        "***1. State the Hypothesis statement:***"
      ]
    },
    {
      "cell_type": "markdown",
      "source": [
        "A statistical technique called hypothesis testing is used to make statistical decisions based on experiment results; in essence, it involves making an assumption about the population parameter.\n",
        "Hypothesis Null (H₀): assumes that the variables have no meaningful relationship or effect.\n",
        "\n",
        "Alternative Hypothesis (H₁ or Ha): Presupposes that variables have a meaningful effect."
      ],
      "metadata": {
        "id": "3SaudNEzugp7"
      },
      "id": "3SaudNEzugp7"
    },
    {
      "cell_type": "markdown",
      "id": "e187a8c0-4745-4cbe-b349-979a3adbe59c",
      "metadata": {
        "id": "e187a8c0-4745-4cbe-b349-979a3adbe59c"
      },
      "source": [
        "***2. Calculate the Test Statistic:***"
      ]
    },
    {
      "cell_type": "code",
      "execution_count": 4,
      "id": "1cc1ca39-ad8d-45df-96d9-5a42f2cfa759",
      "metadata": {
        "colab": {
          "base_uri": "https://localhost:8080/"
        },
        "id": "1cc1ca39-ad8d-45df-96d9-5a42f2cfa759",
        "outputId": "7772a99e-f24f-4934-fcc0-ac3c89260c69"
      },
      "outputs": [
        {
          "output_type": "stream",
          "name": "stdout",
          "text": [
            "Theoretical the weekly cost mean is (μ): 4000 Rs\n",
            "Test Statistic is (t): -38.0\n"
          ]
        }
      ],
      "source": [
        "import numpy as np\n",
        "\n",
        "\n",
        "xbar = 3050\n",
        "n = 25\n",
        "sigma = 5 * 25\n",
        "\n",
        "x = 600\n",
        "mu = 1000 + 5 * x\n",
        "print(f\"Theoretical the weekly cost mean is (μ): {mu} Rs\")\n",
        "\n",
        "\n",
        "t_stat = (xbar - mu) / (sigma / np.sqrt(n))\n",
        "print(f\"Test Statistic is (t): {t_stat}\")\n"
      ]
    },
    {
      "cell_type": "markdown",
      "id": "a91ac73c-3f55-4a07-beb6-37c9702e31ec",
      "metadata": {
        "id": "a91ac73c-3f55-4a07-beb6-37c9702e31ec"
      },
      "source": [
        "***3. Determine the Critical Value:***\n",
        "\n",
        "*Determine the critical value from the standard normal (Z) distribution table*\n",
        "\n",
        "(α = 0.05),\n"
      ]
    },
    {
      "cell_type": "code",
      "execution_count": 7,
      "id": "1ca4f624-fc3a-4898-b75f-4cdd75dde31b",
      "metadata": {
        "colab": {
          "base_uri": "https://localhost:8080/"
        },
        "id": "1ca4f624-fc3a-4898-b75f-4cdd75dde31b",
        "outputId": "14a8e9b5-1604-4a0a-f0e4-b3756d74072a"
      },
      "outputs": [
        {
          "output_type": "execute_result",
          "data": {
            "text/plain": [
              "0.35364376119863666"
            ]
          },
          "metadata": {},
          "execution_count": 7
        }
      ],
      "source": [
        "#stats.t.cdf(t,df)\n",
        "#where t is test statistic ,df=n-1\n",
        "stats.t.cdf(-.38,24)"
      ]
    },
    {
      "cell_type": "code",
      "execution_count": 11,
      "id": "92544955-0dd0-4a00-931d-b806baee3fa2",
      "metadata": {
        "colab": {
          "base_uri": "https://localhost:8080/"
        },
        "id": "92544955-0dd0-4a00-931d-b806baee3fa2",
        "outputId": "f255f43f-d498-4db0-d7ab-0ca3769c6863"
      },
      "outputs": [
        {
          "output_type": "stream",
          "name": "stdout",
          "text": [
            "Value = 1.6449\n"
          ]
        }
      ],
      "source": [
        "import scipy.stats as stats\n",
        "\n",
        "alpha = 0.05\n",
        "z_crit = stats.norm.ppf(1 - alpha)\n",
        "\n",
        "z_crit\n",
        "print(\"Value =\",round(z_crit,4))"
      ]
    },
    {
      "cell_type": "markdown",
      "id": "f0344071-8a22-455a-b829-fd1bc23b968c",
      "metadata": {
        "id": "f0344071-8a22-455a-b829-fd1bc23b968c"
      },
      "source": [
        "***4. Make a Decision:***\n",
        "\n",
        "*Compare the test statistic with the critical value to decide whether to reject the null hypothesis.*\n",
        "\n",
        "\n"
      ]
    },
    {
      "cell_type": "code",
      "execution_count": null,
      "id": "c08cee53-902b-44dd-bd7a-ccc1c5637910",
      "metadata": {
        "id": "c08cee53-902b-44dd-bd7a-ccc1c5637910"
      },
      "outputs": [],
      "source": [
        "## test statistic is -38\n",
        "## critical Value is 1.6449"
      ]
    },
    {
      "cell_type": "code",
      "execution_count": null,
      "id": "d3450c96-69c7-4524-93b1-e1b984eb94ab",
      "metadata": {
        "id": "d3450c96-69c7-4524-93b1-e1b984eb94ab"
      },
      "outputs": [],
      "source": [
        "#In this case: [ -38 < 1.6449 ]"
      ]
    },
    {
      "cell_type": "markdown",
      "source": [
        "**We Reject the Null Hypothesis as the test statistic value is less then the critical value**\n",
        "\n",
        "---\n",
        "\n"
      ],
      "metadata": {
        "id": "DqiQGiPXyKDu"
      },
      "id": "DqiQGiPXyKDu"
    },
    {
      "cell_type": "markdown",
      "id": "a9c6d79b-021d-4084-be66-e4a65979ba4b",
      "metadata": {
        "id": "a9c6d79b-021d-4084-be66-e4a65979ba4b"
      },
      "source": [
        "## 5. Conclusion:"
      ]
    },
    {
      "cell_type": "markdown",
      "source": [
        "As the we get to know Null Hypothesis is rejected by comparing the test statistic and critical value which shows strong evidence to support the restaurant owners claim that the weekly operating costs are higher than the model suggests"
      ],
      "metadata": {
        "id": "UhDp5AxTzeMP"
      },
      "id": "UhDp5AxTzeMP"
    }
  ],
  "metadata": {
    "kernelspec": {
      "display_name": "Python 3 (ipykernel)",
      "language": "python",
      "name": "python3"
    },
    "language_info": {
      "codemirror_mode": {
        "name": "ipython",
        "version": 3
      },
      "file_extension": ".py",
      "mimetype": "text/x-python",
      "name": "python",
      "nbconvert_exporter": "python",
      "pygments_lexer": "ipython3",
      "version": "3.12.4"
    },
    "colab": {
      "provenance": []
    }
  },
  "nbformat": 4,
  "nbformat_minor": 5
}
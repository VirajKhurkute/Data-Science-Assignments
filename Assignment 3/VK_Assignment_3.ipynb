{
  "nbformat": 4,
  "nbformat_minor": 0,
  "metadata": {
    "colab": {
      "provenance": []
    },
    "kernelspec": {
      "name": "python3",
      "display_name": "Python 3"
    },
    "language_info": {
      "name": "python"
    }
  },
  "cells": [
    {
      "cell_type": "markdown",
      "source": [
        "# PYTHON PROGRAMMING ASSIGNMENT"
      ],
      "metadata": {
        "id": "nhCPsHZfdKnX"
      }
    },
    {
      "cell_type": "markdown",
      "source": [
        "**1: Prime Numbers**"
      ],
      "metadata": {
        "id": "5LFzSy3AdLyu"
      }
    },
    {
      "cell_type": "markdown",
      "source": [
        "*Write a Python program that checks whether a given number is prime or not. A prime number is a natural number greater than 1 that has no positive divisors other than 1 and itself.*"
      ],
      "metadata": {
        "id": "iiQSFpYXeBk2"
      }
    },
    {
      "cell_type": "code",
      "source": [
        "n= int(input (\"Please enter a number  \"));\n",
        "for i in range(2,n):\n",
        "    if n% i == 0:\n",
        "        print(\"The Given number is not a Prime Number\")\n",
        "        break\n",
        "    else:\n",
        "        print(\"The Given number is a Prime Number\")\n",
        "        break\n"
      ],
      "metadata": {
        "colab": {
          "base_uri": "https://localhost:8080/"
        },
        "id": "Ww7vLp97eLcM",
        "outputId": "53fa1ad6-e9a7-42ce-cc3f-b3e79b4bfc20"
      },
      "execution_count": 7,
      "outputs": [
        {
          "output_type": "stream",
          "name": "stdout",
          "text": [
            "Please enter a number  6\n",
            "The Given number is not a Prime Number\n"
          ]
        }
      ]
    },
    {
      "cell_type": "code",
      "source": [
        "n= int(input (\"Please enter a number  \"));\n",
        "for i in range(2,n):\n",
        "    if n% i == 0:\n",
        "        print(\"The Given number is not a Prime Number\")\n",
        "        break\n",
        "    else:\n",
        "        print(\"The Given number is a Prime Number\")\n",
        "        break\n"
      ],
      "metadata": {
        "colab": {
          "base_uri": "https://localhost:8080/"
        },
        "id": "Le4JmB0TfF2H",
        "outputId": "0dde200c-f937-456b-fd39-26a0ed8d21bc"
      },
      "execution_count": 18,
      "outputs": [
        {
          "output_type": "stream",
          "name": "stdout",
          "text": [
            "Please enter a number  11\n",
            "The Given number is a Prime Number\n"
          ]
        }
      ]
    },
    {
      "cell_type": "markdown",
      "source": [
        " **2: Product of Random Numbers**"
      ],
      "metadata": {
        "id": "37KceV2hfa8r"
      }
    },
    {
      "cell_type": "markdown",
      "source": [
        "*Develop a Python program that generates two random numbers and asks the user to enter the product of these numbers. The program should then check if the user's answer is correct and display an appropriate message.*"
      ],
      "metadata": {
        "id": "gWqzkw-rflUE"
      }
    },
    {
      "cell_type": "code",
      "source": [
        "import random\n",
        "a = random.randint(1,15)\n",
        "b = random.randint(1,15)\n",
        "print(\"The Value of a is\",a)\n",
        "print(\"The Value of b is\",b)"
      ],
      "metadata": {
        "colab": {
          "base_uri": "https://localhost:8080/"
        },
        "id": "6g5oVI8XfpeS",
        "outputId": "370a33e3-d85c-49da-ab8c-caca4641e3d6"
      },
      "execution_count": 27,
      "outputs": [
        {
          "output_type": "stream",
          "name": "stdout",
          "text": [
            "The Value of a is 6\n",
            "The Value of b is 3\n"
          ]
        }
      ]
    },
    {
      "cell_type": "code",
      "source": [
        "\n",
        "mul= int(input(\"Try to Guess the product of a and b : \"));\n",
        "if(mul==a*b):\n",
        "    print(\"Answer is correct Good Job\");\n",
        "else:\n",
        "    print(\"Please Try Again\");"
      ],
      "metadata": {
        "colab": {
          "base_uri": "https://localhost:8080/"
        },
        "id": "p5KE2edCgM5Q",
        "outputId": "8904a09f-5cf7-403f-cadc-f78b6e8bd206"
      },
      "execution_count": 54,
      "outputs": [
        {
          "output_type": "stream",
          "name": "stdout",
          "text": [
            "Try to Guess the product of a and b : 12\n",
            "Please Try Again\n"
          ]
        }
      ]
    },
    {
      "cell_type": "code",
      "source": [
        "mul= int(input(\"Try to Guess the product of a and b : \"));\n",
        "if(mul==a*b):\n",
        "    print(\"Answer is correct Good Job\");\n",
        "else:\n",
        "    print(\"Please Try Again\");"
      ],
      "metadata": {
        "colab": {
          "base_uri": "https://localhost:8080/"
        },
        "id": "aOn_7SrvhOPp",
        "outputId": "5295c8a7-cbad-4771-e170-bd7f7837af9c"
      },
      "execution_count": 55,
      "outputs": [
        {
          "output_type": "stream",
          "name": "stdout",
          "text": [
            "Try to Guess the product of a and b : 18\n",
            "Answer is correct Good Job\n"
          ]
        }
      ]
    },
    {
      "cell_type": "markdown",
      "source": [
        "**3: Squares of Even/Odd Numbers**"
      ],
      "metadata": {
        "id": "xDDyTCJHk40R"
      }
    },
    {
      "cell_type": "markdown",
      "source": [
        "*Create a Python script that prints the squares of all even or odd numbers within the range of 100 to 200. Choose either even or odd numbers and document your choice in the code.*"
      ],
      "metadata": {
        "id": "eVAcmIIflBR-"
      }
    },
    {
      "cell_type": "code",
      "source": [
        "a=100\n",
        "b=200\n",
        "for i in range (a,b+1):\n",
        "    if (i%2==0):\n",
        "        print(\"The Number is Even\",i,\"and square given number is\",i*i);\n",
        "    else:\n",
        "        print(\"The Number is Odd\",i,\"and square is number \",i*i);"
      ],
      "metadata": {
        "colab": {
          "base_uri": "https://localhost:8080/"
        },
        "id": "b1zqQ0vzlNVu",
        "outputId": "0734bb1b-4376-4b26-b325-74648bd89417"
      },
      "execution_count": 58,
      "outputs": [
        {
          "output_type": "stream",
          "name": "stdout",
          "text": [
            "The Number is Even 100 and square given number is 10000\n",
            "The Number is Odd 101 and square is number  10201\n",
            "The Number is Even 102 and square given number is 10404\n",
            "The Number is Odd 103 and square is number  10609\n",
            "The Number is Even 104 and square given number is 10816\n",
            "The Number is Odd 105 and square is number  11025\n",
            "The Number is Even 106 and square given number is 11236\n",
            "The Number is Odd 107 and square is number  11449\n",
            "The Number is Even 108 and square given number is 11664\n",
            "The Number is Odd 109 and square is number  11881\n",
            "The Number is Even 110 and square given number is 12100\n",
            "The Number is Odd 111 and square is number  12321\n",
            "The Number is Even 112 and square given number is 12544\n",
            "The Number is Odd 113 and square is number  12769\n",
            "The Number is Even 114 and square given number is 12996\n",
            "The Number is Odd 115 and square is number  13225\n",
            "The Number is Even 116 and square given number is 13456\n",
            "The Number is Odd 117 and square is number  13689\n",
            "The Number is Even 118 and square given number is 13924\n",
            "The Number is Odd 119 and square is number  14161\n",
            "The Number is Even 120 and square given number is 14400\n",
            "The Number is Odd 121 and square is number  14641\n",
            "The Number is Even 122 and square given number is 14884\n",
            "The Number is Odd 123 and square is number  15129\n",
            "The Number is Even 124 and square given number is 15376\n",
            "The Number is Odd 125 and square is number  15625\n",
            "The Number is Even 126 and square given number is 15876\n",
            "The Number is Odd 127 and square is number  16129\n",
            "The Number is Even 128 and square given number is 16384\n",
            "The Number is Odd 129 and square is number  16641\n",
            "The Number is Even 130 and square given number is 16900\n",
            "The Number is Odd 131 and square is number  17161\n",
            "The Number is Even 132 and square given number is 17424\n",
            "The Number is Odd 133 and square is number  17689\n",
            "The Number is Even 134 and square given number is 17956\n",
            "The Number is Odd 135 and square is number  18225\n",
            "The Number is Even 136 and square given number is 18496\n",
            "The Number is Odd 137 and square is number  18769\n",
            "The Number is Even 138 and square given number is 19044\n",
            "The Number is Odd 139 and square is number  19321\n",
            "The Number is Even 140 and square given number is 19600\n",
            "The Number is Odd 141 and square is number  19881\n",
            "The Number is Even 142 and square given number is 20164\n",
            "The Number is Odd 143 and square is number  20449\n",
            "The Number is Even 144 and square given number is 20736\n",
            "The Number is Odd 145 and square is number  21025\n",
            "The Number is Even 146 and square given number is 21316\n",
            "The Number is Odd 147 and square is number  21609\n",
            "The Number is Even 148 and square given number is 21904\n",
            "The Number is Odd 149 and square is number  22201\n",
            "The Number is Even 150 and square given number is 22500\n",
            "The Number is Odd 151 and square is number  22801\n",
            "The Number is Even 152 and square given number is 23104\n",
            "The Number is Odd 153 and square is number  23409\n",
            "The Number is Even 154 and square given number is 23716\n",
            "The Number is Odd 155 and square is number  24025\n",
            "The Number is Even 156 and square given number is 24336\n",
            "The Number is Odd 157 and square is number  24649\n",
            "The Number is Even 158 and square given number is 24964\n",
            "The Number is Odd 159 and square is number  25281\n",
            "The Number is Even 160 and square given number is 25600\n",
            "The Number is Odd 161 and square is number  25921\n",
            "The Number is Even 162 and square given number is 26244\n",
            "The Number is Odd 163 and square is number  26569\n",
            "The Number is Even 164 and square given number is 26896\n",
            "The Number is Odd 165 and square is number  27225\n",
            "The Number is Even 166 and square given number is 27556\n",
            "The Number is Odd 167 and square is number  27889\n",
            "The Number is Even 168 and square given number is 28224\n",
            "The Number is Odd 169 and square is number  28561\n",
            "The Number is Even 170 and square given number is 28900\n",
            "The Number is Odd 171 and square is number  29241\n",
            "The Number is Even 172 and square given number is 29584\n",
            "The Number is Odd 173 and square is number  29929\n",
            "The Number is Even 174 and square given number is 30276\n",
            "The Number is Odd 175 and square is number  30625\n",
            "The Number is Even 176 and square given number is 30976\n",
            "The Number is Odd 177 and square is number  31329\n",
            "The Number is Even 178 and square given number is 31684\n",
            "The Number is Odd 179 and square is number  32041\n",
            "The Number is Even 180 and square given number is 32400\n",
            "The Number is Odd 181 and square is number  32761\n",
            "The Number is Even 182 and square given number is 33124\n",
            "The Number is Odd 183 and square is number  33489\n",
            "The Number is Even 184 and square given number is 33856\n",
            "The Number is Odd 185 and square is number  34225\n",
            "The Number is Even 186 and square given number is 34596\n",
            "The Number is Odd 187 and square is number  34969\n",
            "The Number is Even 188 and square given number is 35344\n",
            "The Number is Odd 189 and square is number  35721\n",
            "The Number is Even 190 and square given number is 36100\n",
            "The Number is Odd 191 and square is number  36481\n",
            "The Number is Even 192 and square given number is 36864\n",
            "The Number is Odd 193 and square is number  37249\n",
            "The Number is Even 194 and square given number is 37636\n",
            "The Number is Odd 195 and square is number  38025\n",
            "The Number is Even 196 and square given number is 38416\n",
            "The Number is Odd 197 and square is number  38809\n",
            "The Number is Even 198 and square given number is 39204\n",
            "The Number is Odd 199 and square is number  39601\n",
            "The Number is Even 200 and square given number is 40000\n"
          ]
        }
      ]
    },
    {
      "cell_type": "markdown",
      "source": [
        "**4: Word counter**"
      ],
      "metadata": {
        "id": "RtFMgLrjmBLA"
      }
    },
    {
      "cell_type": "markdown",
      "source": [
        "*write a program to count the number of words in a given text.\n",
        "example:\n",
        "input_text = \"This is a sample text. This text will be used to demonstrate the word counter.\"\n",
        "Expected output:\n",
        "'This': 2\n",
        "'is': 1\n",
        "'a': 1*\n"
      ],
      "metadata": {
        "id": "rcNknwd_mLn6"
      }
    },
    {
      "cell_type": "code",
      "source": [
        "import string\n",
        "line= \"Hello My Name is Viraj ,My Age is 24.\"\n",
        "\n",
        "line = line.lower()\n",
        "\n",
        "line = line.translate(str.maketrans(\"\", \"\", string.punctuation))\n",
        "words = line.split()\n",
        "cow = {}\n",
        "\n",
        "for word in words:\n",
        "    if word in cow:\n",
        "        cow[word] += 1\n",
        "    else:\n",
        "        cow[word] = 1\n",
        "\n",
        "for word, count in cow.items():\n",
        "    print(f\"'{word}': {count}\")"
      ],
      "metadata": {
        "colab": {
          "base_uri": "https://localhost:8080/"
        },
        "id": "TJBiY4zDmqva",
        "outputId": "0af51102-c6b9-4cfb-a59a-e0defd3ac058"
      },
      "execution_count": 65,
      "outputs": [
        {
          "output_type": "stream",
          "name": "stdout",
          "text": [
            "'hello': 1\n",
            "'my': 2\n",
            "'name': 1\n",
            "'is': 2\n",
            "'viraj': 1\n",
            "'age': 1\n",
            "'24': 1\n"
          ]
        }
      ]
    },
    {
      "cell_type": "markdown",
      "source": [
        "**5: Check for Palindrome**"
      ],
      "metadata": {
        "id": "0kLeoC5VouJ-"
      }
    },
    {
      "cell_type": "markdown",
      "source": [
        "*Write a Python function called is_palindrome that takes a string as input and returns True if the string is a palindrome, and False otherwise. A palindrome is a word, phrase, number, or other sequence of characters that reads the same forward and backward, ignoring spaces, punctuation, and capitalization.\n",
        "Example:\n",
        "Input: \"racecar\"\n",
        "Expected Output: True*\n"
      ],
      "metadata": {
        "id": "sEGrd7IVo9-L"
      }
    },
    {
      "cell_type": "code",
      "source": [
        "data = input(\" Enter your Word or Number  \");\n",
        "rev=data[-1::-1]\n",
        "if(data==rev):\n",
        "    print(\"Is a palindrome \");\n",
        "else:\n",
        "    print(\"Not a palindrome \");"
      ],
      "metadata": {
        "colab": {
          "base_uri": "https://localhost:8080/"
        },
        "id": "sL_qJbDNnyj9",
        "outputId": "4c4a5f60-d6da-40d9-ba8c-2058c7230e11"
      },
      "execution_count": 67,
      "outputs": [
        {
          "output_type": "stream",
          "name": "stdout",
          "text": [
            " Enter your Word or Number  madam\n",
            "Is a palindrome \n"
          ]
        }
      ]
    },
    {
      "cell_type": "code",
      "source": [
        "data = input(\" Enter your Word or Number  \");\n",
        "rev=data[-1::-1]\n",
        "if(data==rev):\n",
        "    print(\"Is a palindrome \");\n",
        "else:\n",
        "    print(\"Not a palindrome \");"
      ],
      "metadata": {
        "colab": {
          "base_uri": "https://localhost:8080/"
        },
        "id": "30on0XkiprYY",
        "outputId": "cb34d6b5-8274-4e90-946e-a40df07d17d4"
      },
      "execution_count": 68,
      "outputs": [
        {
          "output_type": "stream",
          "name": "stdout",
          "text": [
            " Enter your Word or Number  viraj\n",
            "Not a palindrome \n"
          ]
        }
      ]
    },
    {
      "cell_type": "code",
      "source": [],
      "metadata": {
        "id": "77dVWIEupuE7"
      },
      "execution_count": 68,
      "outputs": []
    }
  ]
}